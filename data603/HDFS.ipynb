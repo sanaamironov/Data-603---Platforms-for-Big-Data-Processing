{
 "cells": [
  {
   "cell_type": "markdown",
   "metadata": {},
   "source": [
    "# HDFS Connection Library"
   ]
  },
  {
   "cell_type": "code",
   "execution_count": 1,
   "metadata": {},
   "outputs": [],
   "source": [
    "%%capture\n",
    "!pip install pyarrow"
   ]
  },
  {
   "cell_type": "code",
   "execution_count": 16,
   "metadata": {},
   "outputs": [],
   "source": [
    "import pyarrow as pa\n",
    "\n",
    "def get_hdfs(namenode = '10.3.0.2', port = 8020):\n",
    "    \"\"\"\n",
    "    Return a HDFS connection. Note: this API is deprecated in pyarrow\n",
    "    \"\"\"\n",
    "    hdfs = pa.hdfs.HadoopFileSystem(namenode, port)\n",
    "    hdfs.connect()\n",
    "    \n",
    "    return hdfs"
   ]
  },
  {
   "cell_type": "code",
   "execution_count": 18,
   "metadata": {},
   "outputs": [],
   "source": [
    "from pyarrow import fs\n",
    "\n",
    "def get_fs(namenode = '10.3.0.2', port = 8020):\n",
    "    \"\"\"\n",
    "    Returns generic Pyarrow filesystem object connected to HDFS.\n",
    "    \n",
    "    example usage: hdfs.get_target_stats(fs.FileSelector('/data/google_open_image', recursive = True))\n",
    "    \n",
    "    This is the hdfs interface going forward as the other is deprecated.\n",
    "    \"\"\"\n",
    "    hdfs_options = fs.HdfsOptions(endpoint = (namenode, port), driver = 'libhdfs')\n",
    "    hdfs = fs.HadoopFileSystem(hdfs_options)\n",
    "    \n",
    "    return hdfs"
   ]
  }
 ],
 "metadata": {
  "kernelspec": {
   "display_name": "Python 3",
   "language": "python",
   "name": "python3"
  },
  "language_info": {
   "codemirror_mode": {
    "name": "ipython",
    "version": 3
   },
   "file_extension": ".py",
   "mimetype": "text/x-python",
   "name": "python",
   "nbconvert_exporter": "python",
   "pygments_lexer": "ipython3",
   "version": "3.6.8"
  }
 },
 "nbformat": 4,
 "nbformat_minor": 4
}
